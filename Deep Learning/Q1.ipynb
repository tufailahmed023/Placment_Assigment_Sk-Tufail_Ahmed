{
  "nbformat": 4,
  "nbformat_minor": 0,
  "metadata": {
    "colab": {
      "provenance": [],
      "gpuType": "T4"
    },
    "kernelspec": {
      "name": "python3",
      "display_name": "Python 3"
    },
    "language_info": {
      "name": "python"
    },
    "accelerator": "GPU",
    "gpuClass": "standard"
  },
  "cells": [
    {
      "cell_type": "markdown",
      "source": [
        "Question 1 -\n",
        "Implement 3 different CNN architectures with a comparison table for the MNSIT\n",
        "dataset using the Tensorflow library.\n",
        "Note -\n",
        "1. The model parameters for each architecture should not be more than 8000\n",
        "parameters\n",
        "2. Code comments should be given for proper code understanding.\n",
        "3. The minimum accuracy for each accuracy should be at least 96%"
      ],
      "metadata": {
        "id": "vPqBi3M-oBYJ"
      }
    },
    {
      "cell_type": "code",
      "source": [
        "import tensorflow as tf\n",
        "from tensorflow.keras.datasets import mnist\n",
        "from tensorflow.keras.layers import Conv2D,MaxPooling2D,Dense,Dropout,Flatten\n",
        "from tensorflow.keras.models import Sequential\n",
        "from tensorflow.keras.metrics import Accuracy\n",
        "from tensorflow.keras.optimizers import Adam\n",
        "from tensorflow.keras.utils import to_categorical\n",
        "import matplotlib.pyplot as plt"
      ],
      "metadata": {
        "id": "HR-lYOrRo7lu"
      },
      "execution_count": 9,
      "outputs": []
    },
    {
      "cell_type": "code",
      "source": [
        "#Loading the dataset \n",
        "(X_train,y_train),(x_test,y_test) = mnist.load_data()"
      ],
      "metadata": {
        "id": "iJWnMdiRpHN5"
      },
      "execution_count": 20,
      "outputs": []
    },
    {
      "cell_type": "code",
      "source": [
        "plt.imshow(X_train[1888])\n",
        "plt.show()\n",
        "\n",
        "print(y_train[1888])\n"
      ],
      "metadata": {
        "colab": {
          "base_uri": "https://localhost:8080/",
          "height": 447
        },
        "id": "WnTb6JUuqQKZ",
        "outputId": "b3d5e53d-e02a-4462-fcd8-1ad921371884"
      },
      "execution_count": 19,
      "outputs": [
        {
          "output_type": "display_data",
          "data": {
            "text/plain": [
              "<Figure size 640x480 with 1 Axes>"
            ],
            "image/png": "[encoded data removed]"
          },
          "metadata": {}
        },
        {
          "output_type": "stream",
          "name": "stdout",
          "text": [
            "2\n"
          ]
        }
      ]
    },
    {
      "cell_type": "code",
      "source": [
        "#preprossing the data \n",
        "X_train = X_train/255\n",
        "x_test = x_test/255"
      ],
      "metadata": {
        "id": "jXsfNTXAqUdY"
      },
      "execution_count": 21,
      "outputs": []
    },
    {
      "cell_type": "code",
      "source": [
        "y_train = to_categorical(y_train,10)\n",
        "y_test = to_categorical(y_test,10)"
      ],
      "metadata": {
        "id": "GMpRpRQDzlOQ"
      },
      "execution_count": 22,
      "outputs": []
    },
    {
      "cell_type": "code",
      "source": [
        "#Architecture 1:\n",
        "model_1 = Sequential()\n",
        "model_1.add(Conv2D(filters = 3, kernel_size = (3,3),activation = 'relu',input_shape = (28,28,1)))\n",
        "model_1.add(MaxPooling2D(pool_size = (2,2)))\n",
        "model_1.add(Flatten())\n",
        "model_1.add(Dense(15,activation = 'relu'))\n",
        "model_1.add(Dense(10,activation = 'softmax'))"
      ],
      "metadata": {
        "id": "4fRk89pErN45"
      },
      "execution_count": 23,
      "outputs": []
    },
    {
      "cell_type": "code",
      "source": [
        "model_1.compile(optimizer = Adam(),loss = 'categorical_crossentropy',metrics=['accuracy'])"
      ],
      "metadata": {
        "id": "ISk_ZsqXseFh"
      },
      "execution_count": 24,
      "outputs": []
    },
    {
      "cell_type": "code",
      "source": [
        "#summery of the model\n",
        "\n",
        "model_1.summary()"
      ],
      "metadata": {
        "colab": {
          "base_uri": "https://localhost:8080/"
        },
        "id": "-spQt6g-ti-Z",
        "outputId": "5f2614fc-8d0c-4a10-9c70-e70d3396516e"
      },
      "execution_count": 25,
      "outputs": [
        {
          "output_type": "stream",
          "name": "stdout",
          "text": [
            "Model: \"sequential_2\"\n",
            "_________________________________________________________________\n",
            " Layer (type)                Output Shape              Param #   \n",
            "=================================================================\n",
            " conv2d_2 (Conv2D)           (None, 26, 26, 3)         30        \n",
            "                                                                 \n",
            " max_pooling2d_2 (MaxPooling  (None, 13, 13, 3)        0         \n",
            " 2D)                                                             \n",
            "                                                                 \n",
            " flatten_2 (Flatten)         (None, 507)               0         \n",
            "                                                                 \n",
            " dense_4 (Dense)             (None, 15)                7620      \n",
            "                                                                 \n",
            " dense_5 (Dense)             (None, 10)                160       \n",
            "                                                                 \n",
            "=================================================================\n",
            "Total params: 7,810\n",
            "Trainable params: 7,810\n",
            "Non-trainable params: 0\n",
            "_________________________________________________________________\n"
          ]
        }
      ]
    },
    {
      "cell_type": "code",
      "source": [
        "#taining of the model\n",
        "history = model_1.fit(X_train,y_train,batch_size=128,epochs=20,validation_data=(x_test,y_test)) "
      ],
      "metadata": {
        "colab": {
          "base_uri": "https://localhost:8080/"
        },
        "id": "Jz--hC8Vu5j-",
        "outputId": "2f86f420-40cc-439b-eeb4-a1ec8fb2ea29"
      },
      "execution_count": 27,
      "outputs": [
        {
          "output_type": "stream",
          "name": "stdout",
          "text": [
            "Epoch 1/20\n",
            "469/469 [==============================] - 2s 4ms/step - loss: 0.1322 - accuracy: 0.9595 - val_loss: 0.1479 - val_accuracy: 0.9539\n",
            "Epoch 2/20\n",
            "469/469 [==============================] - 2s 4ms/step - loss: 0.1251 - accuracy: 0.9617 - val_loss: 0.1322 - val_accuracy: 0.9605\n",
            "Epoch 3/20\n",
            "469/469 [==============================] - 2s 4ms/step - loss: 0.1180 - accuracy: 0.9645 - val_loss: 0.1205 - val_accuracy: 0.9639\n",
            "Epoch 4/20\n",
            "469/469 [==============================] - 2s 5ms/step - loss: 0.1132 - accuracy: 0.9654 - val_loss: 0.1144 - val_accuracy: 0.9639\n",
            "Epoch 5/20\n",
            "469/469 [==============================] - 2s 4ms/step - loss: 0.1079 - accuracy: 0.9669 - val_loss: 0.1115 - val_accuracy: 0.9668\n",
            "Epoch 6/20\n",
            "469/469 [==============================] - 2s 4ms/step - loss: 0.1030 - accuracy: 0.9688 - val_loss: 0.1102 - val_accuracy: 0.9661\n",
            "Epoch 7/20\n",
            "469/469 [==============================] - 2s 4ms/step - loss: 0.0979 - accuracy: 0.9697 - val_loss: 0.1070 - val_accuracy: 0.9677\n",
            "Epoch 8/20\n",
            "469/469 [==============================] - 2s 4ms/step - loss: 0.0953 - accuracy: 0.9706 - val_loss: 0.1062 - val_accuracy: 0.9673\n",
            "Epoch 9/20\n",
            "469/469 [==============================] - 2s 4ms/step - loss: 0.0917 - accuracy: 0.9716 - val_loss: 0.1066 - val_accuracy: 0.9679\n",
            "Epoch 10/20\n",
            "469/469 [==============================] - 2s 4ms/step - loss: 0.0889 - accuracy: 0.9721 - val_loss: 0.1022 - val_accuracy: 0.9684\n",
            "Epoch 11/20\n",
            "469/469 [==============================] - 2s 5ms/step - loss: 0.0861 - accuracy: 0.9727 - val_loss: 0.1037 - val_accuracy: 0.9684\n",
            "Epoch 12/20\n",
            "469/469 [==============================] - 2s 4ms/step - loss: 0.0843 - accuracy: 0.9741 - val_loss: 0.0971 - val_accuracy: 0.9707\n",
            "Epoch 13/20\n",
            "469/469 [==============================] - 2s 4ms/step - loss: 0.0811 - accuracy: 0.9752 - val_loss: 0.0964 - val_accuracy: 0.9707\n",
            "Epoch 14/20\n",
            "469/469 [==============================] - 2s 4ms/step - loss: 0.0787 - accuracy: 0.9754 - val_loss: 0.0985 - val_accuracy: 0.9678\n",
            "Epoch 15/20\n",
            "469/469 [==============================] - 2s 4ms/step - loss: 0.0777 - accuracy: 0.9759 - val_loss: 0.0976 - val_accuracy: 0.9699\n",
            "Epoch 16/20\n",
            "469/469 [==============================] - 2s 4ms/step - loss: 0.0764 - accuracy: 0.9763 - val_loss: 0.0956 - val_accuracy: 0.9708\n",
            "Epoch 17/20\n",
            "469/469 [==============================] - 2s 5ms/step - loss: 0.0731 - accuracy: 0.9771 - val_loss: 0.0946 - val_accuracy: 0.9698\n",
            "Epoch 18/20\n",
            "469/469 [==============================] - 2s 4ms/step - loss: 0.0718 - accuracy: 0.9777 - val_loss: 0.0941 - val_accuracy: 0.9714\n",
            "Epoch 19/20\n",
            "469/469 [==============================] - 2s 4ms/step - loss: 0.0703 - accuracy: 0.9782 - val_loss: 0.0930 - val_accuracy: 0.9711\n",
            "Epoch 20/20\n",
            "469/469 [==============================] - 2s 4ms/step - loss: 0.0702 - accuracy: 0.9779 - val_loss: 0.0954 - val_accuracy: 0.9704\n"
          ]
        }
      ]
    },
    {
      "cell_type": "code",
      "source": [
        "#Architecture 2:\n",
        "model_2 = Sequential()\n",
        "model_2.add(Conv2D(filters = 3, kernel_size = (3,3),activation = 'relu',input_shape = (28,28,1)))\n",
        "model_2.add(MaxPooling2D(pool_size = (2,2)))\n",
        "model_2.add(Conv2D(filters = 3 , kernel_size = (1,1),activation = 'relu'))\n",
        "model_2.add(Flatten())\n",
        "model_2.add(Dense(15,activation = 'relu'))\n",
        "model_2.add(Dense(10,activation = 'softmax'))"
      ],
      "metadata": {
        "id": "E1j89qfpwN5u"
      },
      "execution_count": 49,
      "outputs": []
    },
    {
      "cell_type": "code",
      "source": [
        "model_2.compile(optimizer = Adam(),loss = 'categorical_crossentropy',metrics=['accuracy'])\n",
        "model_2.summary()"
      ],
      "metadata": {
        "colab": {
          "base_uri": "https://localhost:8080/"
        },
        "id": "5zgSr5HM17o2",
        "outputId": "d74501db-7d07-4794-8c80-a5c290def4d9"
      },
      "execution_count": 50,
      "outputs": [
        {
          "output_type": "stream",
          "name": "stdout",
          "text": [
            "Model: \"sequential_14\"\n",
            "_________________________________________________________________\n",
            " Layer (type)                Output Shape              Param #   \n",
            "=================================================================\n",
            " conv2d_23 (Conv2D)          (None, 26, 26, 3)         30        \n",
            "                                                                 \n",
            " max_pooling2d_14 (MaxPoolin  (None, 13, 13, 3)        0         \n",
            " g2D)                                                            \n",
            "                                                                 \n",
            " conv2d_24 (Conv2D)          (None, 13, 13, 3)         12        \n",
            "                                                                 \n",
            " flatten_12 (Flatten)        (None, 507)               0         \n",
            "                                                                 \n",
            " dense_24 (Dense)            (None, 15)                7620      \n",
            "                                                                 \n",
            " dense_25 (Dense)            (None, 10)                160       \n",
            "                                                                 \n",
            "=================================================================\n",
            "Total params: 7,822\n",
            "Trainable params: 7,822\n",
            "Non-trainable params: 0\n",
            "_________________________________________________________________\n"
          ]
        }
      ]
    },
    {
      "cell_type": "code",
      "source": [
        "history = model_2.fit(X_train,y_train,batch_size=128,epochs=20,validation_data=(x_test,y_test)) "
      ],
      "metadata": {
        "colab": {
          "base_uri": "https://localhost:8080/"
        },
        "id": "TET6dZjt2Hel",
        "outputId": "b90286bc-d987-4ad7-fd30-be254a732cd3"
      },
      "execution_count": 51,
      "outputs": [
        {
          "output_type": "stream",
          "name": "stdout",
          "text": [
            "Epoch 1/20\n",
            "469/469 [==============================] - 4s 5ms/step - loss: 0.6833 - accuracy: 0.7979 - val_loss: 0.3197 - val_accuracy: 0.9090\n",
            "Epoch 2/20\n",
            "469/469 [==============================] - 2s 4ms/step - loss: 0.2906 - accuracy: 0.9140 - val_loss: 0.2510 - val_accuracy: 0.9260\n",
            "Epoch 3/20\n",
            "469/469 [==============================] - 2s 4ms/step - loss: 0.2428 - accuracy: 0.9282 - val_loss: 0.2080 - val_accuracy: 0.9381\n",
            "Epoch 4/20\n",
            "469/469 [==============================] - 2s 4ms/step - loss: 0.1965 - accuracy: 0.9426 - val_loss: 0.1598 - val_accuracy: 0.9533\n",
            "Epoch 5/20\n",
            "469/469 [==============================] - 2s 4ms/step - loss: 0.1608 - accuracy: 0.9524 - val_loss: 0.1404 - val_accuracy: 0.9587\n",
            "Epoch 6/20\n",
            "469/469 [==============================] - 2s 5ms/step - loss: 0.1401 - accuracy: 0.9583 - val_loss: 0.1177 - val_accuracy: 0.9650\n",
            "Epoch 7/20\n",
            "469/469 [==============================] - 2s 4ms/step - loss: 0.1271 - accuracy: 0.9623 - val_loss: 0.1142 - val_accuracy: 0.9680\n",
            "Epoch 8/20\n",
            "469/469 [==============================] - 2s 4ms/step - loss: 0.1167 - accuracy: 0.9651 - val_loss: 0.1120 - val_accuracy: 0.9667\n",
            "Epoch 9/20\n",
            "469/469 [==============================] - 2s 4ms/step - loss: 0.1095 - accuracy: 0.9676 - val_loss: 0.0987 - val_accuracy: 0.9689\n",
            "Epoch 10/20\n",
            "469/469 [==============================] - 2s 4ms/step - loss: 0.1028 - accuracy: 0.9697 - val_loss: 0.1028 - val_accuracy: 0.9676\n",
            "Epoch 11/20\n",
            "469/469 [==============================] - 2s 4ms/step - loss: 0.0977 - accuracy: 0.9710 - val_loss: 0.0934 - val_accuracy: 0.9703\n",
            "Epoch 12/20\n",
            "469/469 [==============================] - 3s 5ms/step - loss: 0.0929 - accuracy: 0.9721 - val_loss: 0.0996 - val_accuracy: 0.9694\n",
            "Epoch 13/20\n",
            "469/469 [==============================] - 2s 4ms/step - loss: 0.0888 - accuracy: 0.9736 - val_loss: 0.1008 - val_accuracy: 0.9667\n",
            "Epoch 14/20\n",
            "469/469 [==============================] - 2s 4ms/step - loss: 0.0852 - accuracy: 0.9745 - val_loss: 0.0904 - val_accuracy: 0.9698\n",
            "Epoch 15/20\n",
            "469/469 [==============================] - 2s 4ms/step - loss: 0.0808 - accuracy: 0.9758 - val_loss: 0.0888 - val_accuracy: 0.9713\n",
            "Epoch 16/20\n",
            "469/469 [==============================] - 2s 5ms/step - loss: 0.0782 - accuracy: 0.9761 - val_loss: 0.0867 - val_accuracy: 0.9728\n",
            "Epoch 17/20\n",
            "469/469 [==============================] - 2s 4ms/step - loss: 0.0759 - accuracy: 0.9771 - val_loss: 0.0851 - val_accuracy: 0.9728\n",
            "Epoch 18/20\n",
            "469/469 [==============================] - 3s 6ms/step - loss: 0.0726 - accuracy: 0.9780 - val_loss: 0.0842 - val_accuracy: 0.9727\n",
            "Epoch 19/20\n",
            "469/469 [==============================] - 2s 4ms/step - loss: 0.0703 - accuracy: 0.9788 - val_loss: 0.0832 - val_accuracy: 0.9737\n",
            "Epoch 20/20\n",
            "469/469 [==============================] - 2s 4ms/step - loss: 0.0686 - accuracy: 0.9793 - val_loss: 0.0806 - val_accuracy: 0.9734\n"
          ]
        }
      ]
    },
    {
      "cell_type": "code",
      "source": [
        "#Architecture 3:\n",
        "model_3 = Sequential()\n",
        "model_3.add(Conv2D(filters = 3, kernel_size = (3,3),activation = 'relu',input_shape = (28,28,1)))\n",
        "model_3.add(MaxPooling2D(pool_size = (2,2)))\n",
        "model_3.add(Conv2D(filters = 5 , kernel_size = (3,3),activation = 'relu'))\n",
        "model_3.add(Conv2D(filters = 4 , kernel_size = (1,1),activation = 'relu'))\n",
        "model_3.add(Flatten())\n",
        "model_3.add(Dense(15,activation = 'relu'))\n",
        "model_3.add(Dropout(0.5))\n",
        "model_3.add(Dense(10,activation = 'softmax'))"
      ],
      "metadata": {
        "id": "rXhVjnsz2iaF"
      },
      "execution_count": 70,
      "outputs": []
    },
    {
      "cell_type": "code",
      "source": [
        "model_3.compile(optimizer = Adam(),loss = 'categorical_crossentropy',metrics=['accuracy'])\n",
        "model_3.summary()"
      ],
      "metadata": {
        "colab": {
          "base_uri": "https://localhost:8080/"
        },
        "id": "hkMkGsdh3lVp",
        "outputId": "79979b0c-f88d-4bdc-80bb-39cab358ea03"
      },
      "execution_count": 71,
      "outputs": [
        {
          "output_type": "stream",
          "name": "stdout",
          "text": [
            "Model: \"sequential_24\"\n",
            "_________________________________________________________________\n",
            " Layer (type)                Output Shape              Param #   \n",
            "=================================================================\n",
            " conv2d_52 (Conv2D)          (None, 26, 26, 3)         30        \n",
            "                                                                 \n",
            " max_pooling2d_25 (MaxPoolin  (None, 13, 13, 3)        0         \n",
            " g2D)                                                            \n",
            "                                                                 \n",
            " conv2d_53 (Conv2D)          (None, 11, 11, 5)         140       \n",
            "                                                                 \n",
            " conv2d_54 (Conv2D)          (None, 11, 11, 4)         24        \n",
            "                                                                 \n",
            " flatten_22 (Flatten)        (None, 484)               0         \n",
            "                                                                 \n",
            " dense_44 (Dense)            (None, 15)                7275      \n",
            "                                                                 \n",
            " dropout_9 (Dropout)         (None, 15)                0         \n",
            "                                                                 \n",
            " dense_45 (Dense)            (None, 10)                160       \n",
            "                                                                 \n",
            "=================================================================\n",
            "Total params: 7,629\n",
            "Trainable params: 7,629\n",
            "Non-trainable params: 0\n",
            "_________________________________________________________________\n"
          ]
        }
      ]
    },
    {
      "cell_type": "code",
      "source": [
        "history = model_3.fit(X_train,y_train,batch_size=128,epochs=20,validation_data=(x_test,y_test)) "
      ],
      "metadata": {
        "colab": {
          "base_uri": "https://localhost:8080/"
        },
        "id": "VN0oljxx3oLl",
        "outputId": "fb39caab-0f70-4b4c-f6c2-616a192f248a"
      },
      "execution_count": 72,
      "outputs": [
        {
          "output_type": "stream",
          "name": "stdout",
          "text": [
            "Epoch 1/20\n",
            "469/469 [==============================] - 6s 7ms/step - loss: 1.2319 - accuracy: 0.5489 - val_loss: 0.3173 - val_accuracy: 0.9304\n",
            "Epoch 2/20\n",
            "469/469 [==============================] - 3s 6ms/step - loss: 0.7796 - accuracy: 0.7072 - val_loss: 0.1964 - val_accuracy: 0.9470\n",
            "Epoch 3/20\n",
            "469/469 [==============================] - 3s 5ms/step - loss: 0.6893 - accuracy: 0.7373 - val_loss: 0.1711 - val_accuracy: 0.9551\n",
            "Epoch 4/20\n",
            "469/469 [==============================] - 2s 5ms/step - loss: 0.6544 - accuracy: 0.7513 - val_loss: 0.1493 - val_accuracy: 0.9574\n",
            "Epoch 5/20\n",
            "469/469 [==============================] - 3s 5ms/step - loss: 0.6260 - accuracy: 0.7650 - val_loss: 0.1420 - val_accuracy: 0.9592\n",
            "Epoch 6/20\n",
            "469/469 [==============================] - 2s 5ms/step - loss: 0.6044 - accuracy: 0.7715 - val_loss: 0.1339 - val_accuracy: 0.9621\n",
            "Epoch 7/20\n",
            "469/469 [==============================] - 2s 4ms/step - loss: 0.5899 - accuracy: 0.7776 - val_loss: 0.1240 - val_accuracy: 0.9644\n",
            "Epoch 8/20\n",
            "469/469 [==============================] - 2s 4ms/step - loss: 0.5789 - accuracy: 0.7819 - val_loss: 0.1253 - val_accuracy: 0.9649\n",
            "Epoch 9/20\n",
            "469/469 [==============================] - 2s 4ms/step - loss: 0.5702 - accuracy: 0.7877 - val_loss: 0.1214 - val_accuracy: 0.9641\n",
            "Epoch 10/20\n",
            "469/469 [==============================] - 3s 6ms/step - loss: 0.5566 - accuracy: 0.7923 - val_loss: 0.1185 - val_accuracy: 0.9668\n",
            "Epoch 11/20\n",
            "469/469 [==============================] - 2s 5ms/step - loss: 0.5526 - accuracy: 0.7963 - val_loss: 0.1149 - val_accuracy: 0.9666\n",
            "Epoch 12/20\n",
            "469/469 [==============================] - 2s 4ms/step - loss: 0.5450 - accuracy: 0.7986 - val_loss: 0.1141 - val_accuracy: 0.9672\n",
            "Epoch 13/20\n",
            "469/469 [==============================] - 2s 5ms/step - loss: 0.5475 - accuracy: 0.7982 - val_loss: 0.1115 - val_accuracy: 0.9681\n",
            "Epoch 14/20\n",
            "469/469 [==============================] - 2s 5ms/step - loss: 0.5356 - accuracy: 0.8028 - val_loss: 0.1114 - val_accuracy: 0.9674\n",
            "Epoch 15/20\n",
            "469/469 [==============================] - 2s 5ms/step - loss: 0.5319 - accuracy: 0.8035 - val_loss: 0.1151 - val_accuracy: 0.9677\n",
            "Epoch 16/20\n",
            "469/469 [==============================] - 2s 5ms/step - loss: 0.5322 - accuracy: 0.8041 - val_loss: 0.1099 - val_accuracy: 0.9692\n",
            "Epoch 17/20\n",
            "469/469 [==============================] - 2s 4ms/step - loss: 0.5240 - accuracy: 0.8058 - val_loss: 0.1094 - val_accuracy: 0.9680\n",
            "Epoch 18/20\n",
            "469/469 [==============================] - 2s 4ms/step - loss: 0.5154 - accuracy: 0.8087 - val_loss: 0.1074 - val_accuracy: 0.9684\n",
            "Epoch 19/20\n",
            "469/469 [==============================] - 2s 5ms/step - loss: 0.5181 - accuracy: 0.8101 - val_loss: 0.1040 - val_accuracy: 0.9717\n",
            "Epoch 20/20\n",
            "469/469 [==============================] - 2s 5ms/step - loss: 0.5138 - accuracy: 0.8096 - val_loss: 0.1080 - val_accuracy: 0.9688\n"
          ]
        }
      ]
    },
    {
      "cell_type": "code",
      "source": [],
      "metadata": {
        "id": "KeG833Er4gFl"
      },
      "execution_count": null,
      "outputs": []
    }
  ]
}