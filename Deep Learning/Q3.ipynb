{
  "nbformat": 4,
  "nbformat_minor": 0,
  "metadata": {
    "colab": {
      "provenance": [],
      "gpuType": "T4"
    },
    "kernelspec": {
      "name": "python3",
      "display_name": "Python 3"
    },
    "language_info": {
      "name": "python"
    },
    "accelerator": "GPU",
    "gpuClass": "standard"
  },
  "cells": [
    {
      "cell_type": "markdown",
      "source": [
        "Train a Pure CNN with less than 10000 trainable parameters using the MNIST\n",
        "Dataset having minimum validation accuracy of 99.40%\n",
        "Note -\n",
        "1. Code comments should be given for proper code understanding.\n",
        "2. Implement in both PyTorch and Tensorflow respectively"
      ],
      "metadata": {
        "id": "M4VB9Oze5FHT"
      }
    },
    {
      "cell_type": "markdown",
      "source": [
        "**Tensorflow**"
      ],
      "metadata": {
        "id": "tm-Mz4TmGnu_"
      }
    },
    {
      "cell_type": "code",
      "source": [
        "import tensorflow as tf\n",
        "from tensorflow.keras.datasets import mnist\n",
        "from tensorflow.keras.layers import Conv2D,MaxPooling2D,Dense,Dropout,Flatten\n",
        "from tensorflow.keras.models import Sequential\n",
        "from tensorflow.keras.metrics import Accuracy\n",
        "from tensorflow.keras.optimizers import Adam\n",
        "from tensorflow.keras.utils import to_categorical\n",
        "import matplotlib.pyplot as plt"
      ],
      "metadata": {
        "id": "2hsnoHeD5Ond"
      },
      "execution_count": null,
      "outputs": []
    },
    {
      "cell_type": "code",
      "source": [
        "#Loading the dataset \n",
        "(X_train,y_train),(x_test,y_test) = mnist.load_data()"
      ],
      "metadata": {
        "colab": {
          "base_uri": "https://localhost:8080/"
        },
        "id": "fvoyJLtg5WOu",
        "outputId": "3a6371cf-4fd7-438d-a514-7711022bf726"
      },
      "execution_count": null,
      "outputs": [
        {
          "output_type": "stream",
          "name": "stdout",
          "text": [
            "Downloading data from https://storage.googleapis.com/tensorflow/tf-keras-datasets/mnist.npz\n",
            "11490434/11490434 [==============================] - 0s 0us/step\n"
          ]
        }
      ]
    },
    {
      "cell_type": "code",
      "source": [
        "#preprossing the data \n",
        "X_train = X_train/255\n",
        "x_test = x_test/255\n",
        "\n",
        "y_train = to_categorical(y_train,10)\n",
        "y_test = to_categorical(y_test,10)"
      ],
      "metadata": {
        "id": "9q6xAmhw5n1t"
      },
      "execution_count": null,
      "outputs": []
    },
    {
      "cell_type": "code",
      "source": [
        "model = Sequential()\n",
        "model.add(Conv2D(filters=8,  kernel_size=(3,3),activation= 'relu',input_shape = (28,28,1),name = 'Conv-1'))\n",
        "model.add(Conv2D(filters=16, kernel_size=(3,3),activation = 'relu',padding='same',name = 'Conv-2'))\n",
        "model.add(Conv2D(filters=32, kernel_size=(3,3),activation = 'relu',name = 'Conv-3'))\n",
        "\n",
        "model.add(MaxPooling2D(pool_size = (3,3),name = 'Maxpull-1'))\n",
        "\n",
        "model.add(Conv2D(filters=10,kernel_size =(1,1),activation = 'relu',name = 'Conv-4'))\n",
        "model.add(Conv2D(filters=10,kernel_size =(2,2),activation = 'relu',padding='same',name = 'Conv-5'))\n",
        "\n",
        "model.add(MaxPooling2D(pool_size = (2,2),name = 'Maxpull-2'))\n",
        "\n",
        "#model.add(Conv2D(filters=16,kernel_size =(1,1),activation = 'relu',name = 'Conv-6'))\n",
        "model.add(Conv2D(filters=16,kernel_size =(3,3),activation = 'relu',name = 'Conv-7'))\n",
        "#model.add(Conv2D(filters=20,kernel_size =(2,2),activation = 'relu',name = 'Conv-8'))\n",
        "model.add(Flatten())\n",
        "model.add(Dense(10,activation= 'relu'))\n",
        "model.add(Dense(10,activation= 'softmax'))\n"
      ],
      "metadata": {
        "id": "tJiKRjQU5sHG"
      },
      "execution_count": null,
      "outputs": []
    },
    {
      "cell_type": "code",
      "source": [
        "model.compile(optimizer = Adam(),loss = 'categorical_crossentropy',metrics=['accuracy'])\n",
        "model.summary()"
      ],
      "metadata": {
        "colab": {
          "base_uri": "https://localhost:8080/"
        },
        "id": "etVeX8qY_rSf",
        "outputId": "9a89a81f-15dc-4c3f-a396-3445b9cddf7f"
      },
      "execution_count": null,
      "outputs": [
        {
          "output_type": "stream",
          "name": "stdout",
          "text": [
            "Model: \"sequential_47\"\n",
            "_________________________________________________________________\n",
            " Layer (type)                Output Shape              Param #   \n",
            "=================================================================\n",
            " Conv-1 (Conv2D)             (None, 26, 26, 8)         80        \n",
            "                                                                 \n",
            " Conv-2 (Conv2D)             (None, 26, 26, 16)        1168      \n",
            "                                                                 \n",
            " Conv-3 (Conv2D)             (None, 24, 24, 32)        4640      \n",
            "                                                                 \n",
            " Maxpull-1 (MaxPooling2D)    (None, 8, 8, 32)          0         \n",
            "                                                                 \n",
            " Conv-4 (Conv2D)             (None, 8, 8, 10)          330       \n",
            "                                                                 \n",
            " Conv-5 (Conv2D)             (None, 8, 8, 10)          410       \n",
            "                                                                 \n",
            " Maxpull-2 (MaxPooling2D)    (None, 4, 4, 10)          0         \n",
            "                                                                 \n",
            " Conv-7 (Conv2D)             (None, 2, 2, 16)          1456      \n",
            "                                                                 \n",
            " flatten_40 (Flatten)        (None, 64)                0         \n",
            "                                                                 \n",
            " dense_62 (Dense)            (None, 10)                650       \n",
            "                                                                 \n",
            " dense_63 (Dense)            (None, 10)                110       \n",
            "                                                                 \n",
            "=================================================================\n",
            "Total params: 8,844\n",
            "Trainable params: 8,844\n",
            "Non-trainable params: 0\n",
            "_________________________________________________________________\n"
          ]
        }
      ]
    },
    {
      "cell_type": "code",
      "source": [
        "history = model.fit(X_train,y_train,batch_size=128,epochs=20,validation_data=(x_test,y_test)) "
      ],
      "metadata": {
        "colab": {
          "base_uri": "https://localhost:8080/"
        },
        "id": "MSPQUklJ_5c0",
        "outputId": "b70929b2-bf4c-4563-e1d5-5f8e86152a04"
      },
      "execution_count": null,
      "outputs": [
        {
          "output_type": "stream",
          "name": "stdout",
          "text": [
            "Epoch 1/20\n",
            "469/469 [==============================] - 7s 8ms/step - loss: 0.6459 - accuracy: 0.7941 - val_loss: 0.1594 - val_accuracy: 0.9536\n",
            "Epoch 2/20\n",
            "469/469 [==============================] - 4s 8ms/step - loss: 0.1464 - accuracy: 0.9558 - val_loss: 0.1161 - val_accuracy: 0.9655\n",
            "Epoch 3/20\n",
            "469/469 [==============================] - 3s 7ms/step - loss: 0.1050 - accuracy: 0.9683 - val_loss: 0.0810 - val_accuracy: 0.9753\n",
            "Epoch 4/20\n",
            "469/469 [==============================] - 3s 7ms/step - loss: 0.0848 - accuracy: 0.9741 - val_loss: 0.0740 - val_accuracy: 0.9783\n",
            "Epoch 5/20\n",
            "469/469 [==============================] - 3s 7ms/step - loss: 0.0718 - accuracy: 0.9781 - val_loss: 0.0599 - val_accuracy: 0.9809\n",
            "Epoch 6/20\n",
            "469/469 [==============================] - 4s 8ms/step - loss: 0.0644 - accuracy: 0.9801 - val_loss: 0.0531 - val_accuracy: 0.9815\n",
            "Epoch 7/20\n",
            "469/469 [==============================] - 3s 7ms/step - loss: 0.0571 - accuracy: 0.9824 - val_loss: 0.0663 - val_accuracy: 0.9784\n",
            "Epoch 8/20\n",
            "469/469 [==============================] - 3s 7ms/step - loss: 0.0531 - accuracy: 0.9833 - val_loss: 0.0478 - val_accuracy: 0.9831\n",
            "Epoch 9/20\n",
            "469/469 [==============================] - 3s 7ms/step - loss: 0.0499 - accuracy: 0.9843 - val_loss: 0.0488 - val_accuracy: 0.9839\n",
            "Epoch 10/20\n",
            "469/469 [==============================] - 4s 8ms/step - loss: 0.0460 - accuracy: 0.9856 - val_loss: 0.0416 - val_accuracy: 0.9857\n",
            "Epoch 11/20\n",
            "469/469 [==============================] - 3s 7ms/step - loss: 0.0440 - accuracy: 0.9858 - val_loss: 0.0418 - val_accuracy: 0.9855\n",
            "Epoch 12/20\n",
            "469/469 [==============================] - 3s 7ms/step - loss: 0.0425 - accuracy: 0.9863 - val_loss: 0.0540 - val_accuracy: 0.9827\n",
            "Epoch 13/20\n",
            "469/469 [==============================] - 4s 8ms/step - loss: 0.0387 - accuracy: 0.9879 - val_loss: 0.0399 - val_accuracy: 0.9865\n",
            "Epoch 14/20\n",
            "469/469 [==============================] - 3s 7ms/step - loss: 0.0379 - accuracy: 0.9878 - val_loss: 0.0384 - val_accuracy: 0.9879\n",
            "Epoch 15/20\n",
            "469/469 [==============================] - 3s 7ms/step - loss: 0.0361 - accuracy: 0.9886 - val_loss: 0.0394 - val_accuracy: 0.9858\n",
            "Epoch 16/20\n",
            "469/469 [==============================] - 3s 7ms/step - loss: 0.0342 - accuracy: 0.9890 - val_loss: 0.0453 - val_accuracy: 0.9855\n",
            "Epoch 17/20\n",
            "469/469 [==============================] - 4s 9ms/step - loss: 0.0333 - accuracy: 0.9892 - val_loss: 0.0353 - val_accuracy: 0.9889\n",
            "Epoch 18/20\n",
            "469/469 [==============================] - 3s 7ms/step - loss: 0.0322 - accuracy: 0.9898 - val_loss: 0.0387 - val_accuracy: 0.9874\n",
            "Epoch 19/20\n",
            "469/469 [==============================] - 3s 7ms/step - loss: 0.0295 - accuracy: 0.9905 - val_loss: 0.0402 - val_accuracy: 0.9866\n",
            "Epoch 20/20\n",
            "469/469 [==============================] - 4s 9ms/step - loss: 0.0287 - accuracy: 0.9907 - val_loss: 0.0365 - val_accuracy: 0.9879\n"
          ]
        }
      ]
    },
    {
      "cell_type": "markdown",
      "source": [
        "**Pytorch**"
      ],
      "metadata": {
        "id": "DK3BPcsKGxh8"
      }
    },
    {
      "cell_type": "code",
      "source": [
        "#!pip install torchvision "
      ],
      "metadata": {
        "id": "JIPVBOoOH1WS"
      },
      "execution_count": 3,
      "outputs": []
    },
    {
      "cell_type": "code",
      "source": [
        "import torch \n",
        "import torchvision \n",
        "from torchvision import datasets, transforms\n",
        "import torch.nn as nn\n",
        "from torchsummary import summary \n",
        "from torch.optim import Adam\n",
        "from torch.autograd import Variable \n",
        "import numpy as np\n"
      ],
      "metadata": {
        "id": "4D34JpdtDt6E"
      },
      "execution_count": 11,
      "outputs": []
    },
    {
      "cell_type": "code",
      "source": [
        "transform = transforms.Compose([\n",
        "    transforms.ToTensor(),\n",
        "    transforms.Normalize((0.5,), (0.5,))\n",
        "])"
      ],
      "metadata": {
        "id": "9Lt_NVA8JjHY"
      },
      "execution_count": 12,
      "outputs": []
    },
    {
      "cell_type": "code",
      "source": [
        "train_dataset = datasets.MNIST(root='./data', train=True, download=True, transform=transform)\n",
        "test_dataset = datasets.MNIST(root='./data', train=False, download=True, transform=transform)\n"
      ],
      "metadata": {
        "id": "ukFatDNGHi0p"
      },
      "execution_count": 13,
      "outputs": []
    },
    {
      "cell_type": "code",
      "source": [
        "batch_size = 64\n",
        "\n",
        "train_loader = torch.utils.data.DataLoader(train_dataset, batch_size=batch_size, shuffle=True)\n",
        "test_loader = torch.utils.data.DataLoader(test_dataset, batch_size=batch_size, shuffle=False)\n"
      ],
      "metadata": {
        "id": "wjsYNG5vIplA"
      },
      "execution_count": 14,
      "outputs": []
    },
    {
      "cell_type": "code",
      "source": [
        "#model Bulding"
      ],
      "metadata": {
        "id": "jCjHwu1sJr6i"
      },
      "execution_count": 15,
      "outputs": []
    },
    {
      "cell_type": "code",
      "source": [
        "class CNN(nn.Module):\n",
        "    def __init__(self,):\n",
        "      super(CNN,self).__init__()\n",
        "      #inputshape = (64,1,28,28)\n",
        "      self.conv1 = nn.Conv2d(in_channels = 1,out_channels=8,kernel_size = 3)\n",
        "      self.relu_1 = nn.ReLU()\n",
        "      self.conv2 = nn.Conv2d(in_channels = 8,out_channels=16,kernel_size = 3,padding=1)\n",
        "      self.relu_2 = nn.ReLU()\n",
        "      self.conv3 = nn.Conv2d(in_channels = 16,out_channels=32,kernel_size = 3)\n",
        "      self.relu_3 = nn.ReLU()\n",
        "\n",
        "      self.maxpoll_1 = nn.MaxPool2d(kernel_size = 2)\n",
        "\n",
        "      self.conv4 = nn.Conv2d(in_channels = 32,out_channels=10,kernel_size = 1)\n",
        "      self.relu_4 = nn.ReLU()\n",
        "      self.conv5 = nn.Conv2d(in_channels = 10,out_channels=10,kernel_size = 2,padding=1)\n",
        "      self.relu_5 = nn.ReLU()\n",
        "\n",
        "      self.maxpoll_2 = nn.MaxPool2d(kernel_size = 2)\n",
        "      self.conv6 = nn.Conv2d(in_channels = 10,out_channels=16,kernel_size = 3,)\n",
        "      self.relu_6 = nn.ReLU()\n",
        "\n",
        "      self.fc = nn.Linear(4*4*16,out_features=10)\n",
        "    \n",
        "    def forward(self,x) :\n",
        "        x = self.conv1(x)\n",
        "        x = self.relu_1(x)\n",
        "        x = self.conv2(x)\n",
        "        x = self.relu_2(x)\n",
        "        x = self.conv3(x)\n",
        "        x = self.relu_3(x)\n",
        "      \n",
        "        x = self.maxpoll_1(x)\n",
        "\n",
        "        x = self.conv4(x)\n",
        "        x = self.relu_4(x)\n",
        "        x = self.conv5(x)\n",
        "        x = self.relu_5(x)\n",
        "\n",
        "        x = self.maxpoll_2(x)\n",
        "\n",
        "        x = self.conv6(x)\n",
        "        x = self.relu_6(x)\n",
        "\n",
        "        #flatten \n",
        "        x = x.view(-1,4*4*16)\n",
        "        x = self.fc(x)\n",
        "        return x\n",
        "\n",
        "\n",
        "  \n"
      ],
      "metadata": {
        "id": "QcSFAzv6J2yQ"
      },
      "execution_count": 25,
      "outputs": []
    },
    {
      "cell_type": "code",
      "source": [
        "device=torch.device('cuda' if torch.cuda.is_available() else 'cpu')\n",
        "device\n"
      ],
      "metadata": {
        "colab": {
          "base_uri": "https://localhost:8080/"
        },
        "id": "yKQ66CiWOSCM",
        "outputId": "030f059f-216e-41d3-ddcf-b2178be54e8d"
      },
      "execution_count": 23,
      "outputs": [
        {
          "output_type": "execute_result",
          "data": {
            "text/plain": [
              "device(type='cuda')"
            ]
          },
          "metadata": {},
          "execution_count": 23
        }
      ]
    },
    {
      "cell_type": "code",
      "source": [
        "model=CNN().to(device) #insilizing the model \n"
      ],
      "metadata": {
        "id": "PJiiSM3pOU0J"
      },
      "execution_count": 26,
      "outputs": []
    },
    {
      "cell_type": "code",
      "source": [
        "summary(model,(1,28,28)) #geting model summery "
      ],
      "metadata": {
        "colab": {
          "base_uri": "https://localhost:8080/"
        },
        "id": "cq7uwX31OZEB",
        "outputId": "b30e6c04-0b00-45a9-98c0-e00f3e66bf51"
      },
      "execution_count": 27,
      "outputs": [
        {
          "output_type": "stream",
          "name": "stdout",
          "text": [
            "----------------------------------------------------------------\n",
            "        Layer (type)               Output Shape         Param #\n",
            "================================================================\n",
            "            Conv2d-1            [-1, 8, 26, 26]              80\n",
            "              ReLU-2            [-1, 8, 26, 26]               0\n",
            "            Conv2d-3           [-1, 16, 26, 26]           1,168\n",
            "              ReLU-4           [-1, 16, 26, 26]               0\n",
            "            Conv2d-5           [-1, 32, 24, 24]           4,640\n",
            "              ReLU-6           [-1, 32, 24, 24]               0\n",
            "         MaxPool2d-7           [-1, 32, 12, 12]               0\n",
            "            Conv2d-8           [-1, 10, 12, 12]             330\n",
            "              ReLU-9           [-1, 10, 12, 12]               0\n",
            "           Conv2d-10           [-1, 10, 13, 13]             410\n",
            "             ReLU-11           [-1, 10, 13, 13]               0\n",
            "        MaxPool2d-12             [-1, 10, 6, 6]               0\n",
            "           Conv2d-13             [-1, 16, 4, 4]           1,456\n",
            "             ReLU-14             [-1, 16, 4, 4]               0\n",
            "           Linear-15                   [-1, 10]           2,570\n",
            "================================================================\n",
            "Total params: 10,654\n",
            "Trainable params: 10,654\n",
            "Non-trainable params: 0\n",
            "----------------------------------------------------------------\n",
            "Input size (MB): 0.00\n",
            "Forward/backward pass size (MB): 0.62\n",
            "Params size (MB): 0.04\n",
            "Estimated Total Size (MB): 0.66\n",
            "----------------------------------------------------------------\n"
          ]
        }
      ]
    },
    {
      "cell_type": "code",
      "source": [
        "optimizer=Adam(model.parameters(),lr=0.001,weight_decay=0.0001) #inislizing the optimizer\n",
        "loss_function=nn.CrossEntropyLoss() # insilizing the loss_function "
      ],
      "metadata": {
        "id": "0P111SFtO-cw"
      },
      "execution_count": 28,
      "outputs": []
    },
    {
      "cell_type": "code",
      "source": [],
      "metadata": {
        "id": "tJJTR0K-PFWY"
      },
      "execution_count": null,
      "outputs": []
    }
  ]
}